{
  "nbformat": 4,
  "nbformat_minor": 0,
  "metadata": {
    "colab": {
      "name": "mta.ipynb",
      "provenance": [],
      "collapsed_sections": []
    },
    "kernelspec": {
      "name": "python3",
      "display_name": "Python 3"
    },
    "language_info": {
      "name": "python"
    }
  },
  "cells": [
    {
      "cell_type": "code",
      "execution_count": null,
      "metadata": {
        "colab": {
          "base_uri": "https://localhost:8080/"
        },
        "id": "f4caCOPl41KY",
        "outputId": "75faf319-59b1-4d0a-dc47-7f56a2562bde"
      },
      "outputs": [
        {
          "output_type": "stream",
          "name": "stdout",
          "text": [
            "Requirement already satisfied: underground in /usr/local/lib/python3.7/dist-packages (0.3.0)\n",
            "Requirement already satisfied: google>=2.0 in /usr/local/lib/python3.7/dist-packages (from underground) (2.0.3)\n",
            "Requirement already satisfied: pytz>=2019.2 in /usr/local/lib/python3.7/dist-packages (from underground) (2022.1)\n",
            "Requirement already satisfied: requests>=2.22 in /usr/local/lib/python3.7/dist-packages (from underground) (2.23.0)\n",
            "Requirement already satisfied: protobuf3-to-dict>=0.1.5 in /usr/local/lib/python3.7/dist-packages (from underground) (0.1.5)\n",
            "Requirement already satisfied: pydantic>=0.31.1 in /usr/local/lib/python3.7/dist-packages (from underground) (1.9.0)\n",
            "Requirement already satisfied: click>=7.0 in /usr/local/lib/python3.7/dist-packages (from underground) (7.1.2)\n",
            "Requirement already satisfied: gtfs-realtime-bindings>=0.0.6 in /usr/local/lib/python3.7/dist-packages (from underground) (0.0.7)\n",
            "Requirement already satisfied: beautifulsoup4 in /usr/local/lib/python3.7/dist-packages (from google>=2.0->underground) (4.6.3)\n",
            "Requirement already satisfied: setuptools in /usr/local/lib/python3.7/dist-packages (from gtfs-realtime-bindings>=0.0.6->underground) (57.4.0)\n",
            "Requirement already satisfied: protobuf in /usr/local/lib/python3.7/dist-packages (from gtfs-realtime-bindings>=0.0.6->underground) (3.17.3)\n",
            "Requirement already satisfied: six in /usr/local/lib/python3.7/dist-packages (from protobuf3-to-dict>=0.1.5->underground) (1.15.0)\n",
            "Requirement already satisfied: typing-extensions>=3.7.4.3 in /usr/local/lib/python3.7/dist-packages (from pydantic>=0.31.1->underground) (4.2.0)\n",
            "Requirement already satisfied: chardet<4,>=3.0.2 in /usr/local/lib/python3.7/dist-packages (from requests>=2.22->underground) (3.0.4)\n",
            "Requirement already satisfied: certifi>=2017.4.17 in /usr/local/lib/python3.7/dist-packages (from requests>=2.22->underground) (2021.10.8)\n",
            "Requirement already satisfied: urllib3!=1.25.0,!=1.25.1,<1.26,>=1.21.1 in /usr/local/lib/python3.7/dist-packages (from requests>=2.22->underground) (1.24.3)\n",
            "Requirement already satisfied: idna<3,>=2.5 in /usr/local/lib/python3.7/dist-packages (from requests>=2.22->underground) (2.10)\n"
          ]
        }
      ],
      "source": [
        "!pip install underground"
      ]
    },
    {
      "cell_type": "code",
      "source": [
        "import os\n",
        "os.environ['MTA_API_KEY'] = \"HoYzecGBd54ZYC8bHLOgq2aBX6lZTu1n5NIX1ETm\"\n"
      ],
      "metadata": {
        "id": "HmBPRh-58QVh"
      },
      "execution_count": null,
      "outputs": []
    },
    {
      "cell_type": "code",
      "source": [
        "import os\n",
        "\n",
        "from underground import metadata, SubwayFeed\n",
        "\n",
        "API_KEY = os.getenv('MTA_API_KEY')\n",
        "ROUTE = 'L'\n",
        "feed = SubwayFeed.get(ROUTE, api_key=API_KEY)\n",
        "\n",
        "# request will read from $MTA_API_KEY if a key is not provided\n",
        "feed = SubwayFeed.get(ROUTE)\n",
        "\n",
        "# under the hood, the Q route is mapped to a URL. This call is equivalent:\n",
        "#URL = 'https://api-endpoint.mta.info/Dataservice/mtagtfsfeeds/nyct%2Fgtfs-nqrw'\n",
        "#feed = SubwayFeed.get(URL)\n",
        "\n",
        "# or\n",
        "URL = metadata.resolve_url(ROUTE)\n",
        "feed = SubwayFeed.get(URL)"
      ],
      "metadata": {
        "id": "4tsCxLV648Nx"
      },
      "execution_count": null,
      "outputs": []
    },
    {
      "cell_type": "code",
      "source": [
        "stop_dict = feed.extract_stop_dict()"
      ],
      "metadata": {
        "id": "RtmyyATc8WZk"
      },
      "execution_count": null,
      "outputs": []
    },
    {
      "cell_type": "code",
      "source": [
        "stop_dict[\"L\"][\"L16N\"]"
      ],
      "metadata": {
        "colab": {
          "base_uri": "https://localhost:8080/"
        },
        "id": "USBZNzkeLJ5e",
        "outputId": "a691cc46-eed1-4202-ccfd-aa0d1fa622e2"
      },
      "execution_count": null,
      "outputs": [
        {
          "output_type": "execute_result",
          "data": {
            "text/plain": [
              "[datetime.datetime(2022, 5, 7, 16, 22, 36, tzinfo=<DstTzInfo 'US/Eastern' EDT-1 day, 20:00:00 DST>),\n",
              " datetime.datetime(2022, 5, 7, 16, 30, 2, tzinfo=<DstTzInfo 'US/Eastern' EDT-1 day, 20:00:00 DST>),\n",
              " datetime.datetime(2022, 5, 7, 16, 38, 2, tzinfo=<DstTzInfo 'US/Eastern' EDT-1 day, 20:00:00 DST>),\n",
              " datetime.datetime(2022, 5, 7, 16, 46, 2, tzinfo=<DstTzInfo 'US/Eastern' EDT-1 day, 20:00:00 DST>),\n",
              " datetime.datetime(2022, 5, 7, 16, 54, 2, tzinfo=<DstTzInfo 'US/Eastern' EDT-1 day, 20:00:00 DST>)]"
            ]
          },
          "metadata": {},
          "execution_count": 23
        }
      ]
    },
    {
      "cell_type": "code",
      "source": [
        "from datetime import datetime\n",
        "now = datetime.now() # current date and time\n",
        "\n",
        "time = now.strftime(\"%H:%M:%S\")\n",
        "print(\"time:\", time)"
      ],
      "metadata": {
        "colab": {
          "base_uri": "https://localhost:8080/"
        },
        "id": "dWWng4Q3M_R7",
        "outputId": "7e099a45-863d-4a41-cc6d-e0d295e3418b"
      },
      "execution_count": null,
      "outputs": [
        {
          "output_type": "stream",
          "name": "stdout",
          "text": [
            "time: 20:27:11\n"
          ]
        }
      ]
    },
    {
      "cell_type": "code",
      "source": [
        "feed = SubwayFeed.get('L')"
      ],
      "metadata": {
        "id": "nYDL3U8c8nu5"
      },
      "execution_count": null,
      "outputs": []
    },
    {
      "cell_type": "code",
      "source": [
        "print(feed)"
      ],
      "metadata": {
        "colab": {
          "base_uri": "https://localhost:8080/"
        },
        "id": "mxlSMzssDS1F",
        "outputId": "12c041cf-2450-4438-d095-b696a2b92705"
      },
      "execution_count": null,
      "outputs": [
        {
          "output_type": "stream",
          "name": "stdout",
          "text": [
            "header=FeedHeader(gtfs_realtime_version='1.0', timestamp=datetime.datetime(2022, 5, 7, 19, 57, 6, tzinfo=datetime.timezone.utc)) entity=[Entity(id='1', vehicle=None, trip_update=TripUpdate(trip=Trip(trip_id='093250_L..S', start_time=None, start_date=20220507, route_id='L'), stop_time_update=[StopTimeUpdate(stop_id='L20S', arrival=UnixTimestamp(time=datetime.datetime(2022, 5, 7, 19, 56, 45, tzinfo=datetime.timezone.utc)), departure=UnixTimestamp(time=datetime.datetime(2022, 5, 7, 19, 57, tzinfo=datetime.timezone.utc))), StopTimeUpdate(stop_id='L21S', arrival=UnixTimestamp(time=datetime.datetime(2022, 5, 7, 19, 58, 2, tzinfo=datetime.timezone.utc)), departure=UnixTimestamp(time=datetime.datetime(2022, 5, 7, 19, 58, 17, tzinfo=datetime.timezone.utc))), StopTimeUpdate(stop_id='L22S', arrival=UnixTimestamp(time=datetime.datetime(2022, 5, 7, 20, 1, 8, tzinfo=datetime.timezone.utc)), departure=None)])), Entity(id='2', vehicle=Vehicle(trip=Trip(trip_id='093250_L..S', start_time=None, start_date=20220507, route_id='L'), timestamp=datetime.datetime(2022, 5, 7, 19, 56, 13, tzinfo=datetime.timezone.utc), current_stop_sequence=15, stop_id='L20S'), trip_update=None), Entity(id='3', vehicle=None, trip_update=TripUpdate(trip=Trip(trip_id='093450_L..N', start_time=None, start_date=20220507, route_id='L'), stop_time_update=[StopTimeUpdate(stop_id='L05N', arrival=UnixTimestamp(time=datetime.datetime(2022, 5, 7, 19, 58, 25, tzinfo=datetime.timezone.utc)), departure=UnixTimestamp(time=datetime.datetime(2022, 5, 7, 19, 58, 40, tzinfo=datetime.timezone.utc))), StopTimeUpdate(stop_id='L03N', arrival=UnixTimestamp(time=datetime.datetime(2022, 5, 7, 19, 59, 45, tzinfo=datetime.timezone.utc)), departure=UnixTimestamp(time=datetime.datetime(2022, 5, 7, 20, 0, tzinfo=datetime.timezone.utc))), StopTimeUpdate(stop_id='L02N', arrival=UnixTimestamp(time=datetime.datetime(2022, 5, 7, 20, 1, 15, tzinfo=datetime.timezone.utc)), departure=UnixTimestamp(time=datetime.datetime(2022, 5, 7, 20, 1, 30, tzinfo=datetime.timezone.utc))), StopTimeUpdate(stop_id='L01N', arrival=UnixTimestamp(time=datetime.datetime(2022, 5, 7, 20, 3, 45, tzinfo=datetime.timezone.utc)), departure=None)])), Entity(id='4', vehicle=Vehicle(trip=Trip(trip_id='093450_L..N', start_time=None, start_date=20220507, route_id='L'), timestamp=datetime.datetime(2022, 5, 7, 19, 56, 58, tzinfo=datetime.timezone.utc), current_stop_sequence=20, stop_id='L05N'), trip_update=None), Entity(id='5', vehicle=None, trip_update=TripUpdate(trip=Trip(trip_id='094050_L..S', start_time=None, start_date=20220507, route_id='L'), stop_time_update=[StopTimeUpdate(stop_id='L15S', arrival=UnixTimestamp(time=datetime.datetime(2022, 5, 7, 19, 58, 14, tzinfo=datetime.timezone.utc)), departure=UnixTimestamp(time=datetime.datetime(2022, 5, 7, 19, 58, 29, tzinfo=datetime.timezone.utc))), StopTimeUpdate(stop_id='L16S', arrival=UnixTimestamp(time=datetime.datetime(2022, 5, 7, 19, 59, 26, tzinfo=datetime.timezone.utc)), departure=UnixTimestamp(time=datetime.datetime(2022, 5, 7, 19, 59, 41, tzinfo=datetime.timezone.utc))), StopTimeUpdate(stop_id='L17S', arrival=UnixTimestamp(time=datetime.datetime(2022, 5, 7, 20, 1, 2, tzinfo=datetime.timezone.utc)), departure=UnixTimestamp(time=datetime.datetime(2022, 5, 7, 20, 1, 17, tzinfo=datetime.timezone.utc))), StopTimeUpdate(stop_id='L19S', arrival=UnixTimestamp(time=datetime.datetime(2022, 5, 7, 20, 2, 26, tzinfo=datetime.timezone.utc)), departure=UnixTimestamp(time=datetime.datetime(2022, 5, 7, 20, 2, 41, tzinfo=datetime.timezone.utc))), StopTimeUpdate(stop_id='L20S', arrival=UnixTimestamp(time=datetime.datetime(2022, 5, 7, 20, 4, 8, tzinfo=datetime.timezone.utc)), departure=UnixTimestamp(time=datetime.datetime(2022, 5, 7, 20, 4, 23, tzinfo=datetime.timezone.utc))), StopTimeUpdate(stop_id='L21S', arrival=UnixTimestamp(time=datetime.datetime(2022, 5, 7, 20, 5, 26, tzinfo=datetime.timezone.utc)), departure=UnixTimestamp(time=datetime.datetime(2022, 5, 7, 20, 5, 41, tzinfo=datetime.timezone.utc))), StopTimeUpdate(stop_id='L22S', arrival=UnixTimestamp(time=datetime.datetime(2022, 5, 7, 20, 8, 32, tzinfo=datetime.timezone.utc)), departure=None)])), Entity(id='6', vehicle=Vehicle(trip=Trip(trip_id='094050_L..S', start_time=None, start_date=20220507, route_id='L'), timestamp=datetime.datetime(2022, 5, 7, 19, 56, 58, tzinfo=datetime.timezone.utc), current_stop_sequence=11, stop_id='L15S'), trip_update=None), Entity(id='7', vehicle=None, trip_update=TripUpdate(trip=Trip(trip_id='094250_L..N', start_time=None, start_date=20220507, route_id='L'), stop_time_update=[StopTimeUpdate(stop_id='L12N', arrival=UnixTimestamp(time=datetime.datetime(2022, 5, 7, 19, 57, 17, tzinfo=datetime.timezone.utc)), departure=UnixTimestamp(time=datetime.datetime(2022, 5, 7, 19, 57, 32, tzinfo=datetime.timezone.utc))), StopTimeUpdate(stop_id='L11N', arrival=UnixTimestamp(time=datetime.datetime(2022, 5, 7, 19, 58, 25, tzinfo=datetime.timezone.utc)), departure=UnixTimestamp(time=datetime.datetime(2022, 5, 7, 19, 58, 40, tzinfo=datetime.timezone.utc))), StopTimeUpdate(stop_id='L10N', arrival=UnixTimestamp(time=datetime.datetime(2022, 5, 7, 19, 59, 43, tzinfo=datetime.timezone.utc)), departure=UnixTimestamp(time=datetime.datetime(2022, 5, 7, 19, 59, 58, tzinfo=datetime.timezone.utc))), StopTimeUpdate(stop_id='L08N', arrival=UnixTimestamp(time=datetime.datetime(2022, 5, 7, 20, 1, 33, tzinfo=datetime.timezone.utc)), departure=UnixTimestamp(time=datetime.datetime(2022, 5, 7, 20, 1, 48, tzinfo=datetime.timezone.utc))), StopTimeUpdate(stop_id='L06N', arrival=UnixTimestamp(time=datetime.datetime(2022, 5, 7, 20, 5, 33, tzinfo=datetime.timezone.utc)), departure=UnixTimestamp(time=datetime.datetime(2022, 5, 7, 20, 5, 48, tzinfo=datetime.timezone.utc))), StopTimeUpdate(stop_id='L05N', arrival=UnixTimestamp(time=datetime.datetime(2022, 5, 7, 20, 6, 33, tzinfo=datetime.timezone.utc)), departure=UnixTimestamp(time=datetime.datetime(2022, 5, 7, 20, 6, 48, tzinfo=datetime.timezone.utc))), StopTimeUpdate(stop_id='L03N', arrival=UnixTimestamp(time=datetime.datetime(2022, 5, 7, 20, 7, 53, tzinfo=datetime.timezone.utc)), departure=UnixTimestamp(time=datetime.datetime(2022, 5, 7, 20, 8, 8, tzinfo=datetime.timezone.utc))), StopTimeUpdate(stop_id='L02N', arrival=UnixTimestamp(time=datetime.datetime(2022, 5, 7, 20, 9, 23, tzinfo=datetime.timezone.utc)), departure=UnixTimestamp(time=datetime.datetime(2022, 5, 7, 20, 9, 38, tzinfo=datetime.timezone.utc))), StopTimeUpdate(stop_id='L01N', arrival=UnixTimestamp(time=datetime.datetime(2022, 5, 7, 20, 11, 53, tzinfo=datetime.timezone.utc)), departure=None)])), Entity(id='8', vehicle=Vehicle(trip=Trip(trip_id='094250_L..N', start_time=None, start_date=20220507, route_id='L'), timestamp=datetime.datetime(2022, 5, 7, 19, 56, 43, tzinfo=datetime.timezone.utc), current_stop_sequence=15, stop_id='L12N'), trip_update=None), Entity(id='9', vehicle=None, trip_update=TripUpdate(trip=Trip(trip_id='094850_L..S', start_time=None, start_date=20220507, route_id='L'), stop_time_update=[StopTimeUpdate(stop_id='L08S', arrival=UnixTimestamp(time=datetime.datetime(2022, 5, 7, 19, 57, 10, tzinfo=datetime.timezone.utc)), departure=UnixTimestamp(time=datetime.datetime(2022, 5, 7, 19, 57, 25, tzinfo=datetime.timezone.utc))), StopTimeUpdate(stop_id='L10S', arrival=UnixTimestamp(time=datetime.datetime(2022, 5, 7, 19, 59, 29, tzinfo=datetime.timezone.utc)), departure=UnixTimestamp(time=datetime.datetime(2022, 5, 7, 19, 59, 44, tzinfo=datetime.timezone.utc))), StopTimeUpdate(stop_id='L11S', arrival=UnixTimestamp(time=datetime.datetime(2022, 5, 7, 20, 0, 47, tzinfo=datetime.timezone.utc)), departure=UnixTimestamp(time=datetime.datetime(2022, 5, 7, 20, 1, 2, tzinfo=datetime.timezone.utc))), StopTimeUpdate(stop_id='L12S', arrival=UnixTimestamp(time=datetime.datetime(2022, 5, 7, 20, 1, 59, tzinfo=datetime.timezone.utc)), departure=UnixTimestamp(time=datetime.datetime(2022, 5, 7, 20, 2, 14, tzinfo=datetime.timezone.utc))), StopTimeUpdate(stop_id='L13S', arrival=UnixTimestamp(time=datetime.datetime(2022, 5, 7, 20, 3, 17, tzinfo=datetime.timezone.utc)), departure=UnixTimestamp(time=datetime.datetime(2022, 5, 7, 20, 3, 32, tzinfo=datetime.timezone.utc))), StopTimeUpdate(stop_id='L14S', arrival=UnixTimestamp(time=datetime.datetime(2022, 5, 7, 20, 4, 53, tzinfo=datetime.timezone.utc)), departure=UnixTimestamp(time=datetime.datetime(2022, 5, 7, 20, 5, 8, tzinfo=datetime.timezone.utc))), StopTimeUpdate(stop_id='L15S', arrival=UnixTimestamp(time=datetime.datetime(2022, 5, 7, 20, 6, 41, tzinfo=datetime.timezone.utc)), departure=UnixTimestamp(time=datetime.datetime(2022, 5, 7, 20, 6, 56, tzinfo=datetime.timezone.utc))), StopTimeUpdate(stop_id='L16S', arrival=UnixTimestamp(time=datetime.datetime(2022, 5, 7, 20, 7, 53, tzinfo=datetime.timezone.utc)), departure=UnixTimestamp(time=datetime.datetime(2022, 5, 7, 20, 8, 8, tzinfo=datetime.timezone.utc))), StopTimeUpdate(stop_id='L17S', arrival=UnixTimestamp(time=datetime.datetime(2022, 5, 7, 20, 9, 29, tzinfo=datetime.timezone.utc)), departure=UnixTimestamp(time=datetime.datetime(2022, 5, 7, 20, 9, 44, tzinfo=datetime.timezone.utc))), StopTimeUpdate(stop_id='L19S', arrival=UnixTimestamp(time=datetime.datetime(2022, 5, 7, 20, 10, 53, tzinfo=datetime.timezone.utc)), departure=UnixTimestamp(time=datetime.datetime(2022, 5, 7, 20, 11, 8, tzinfo=datetime.timezone.utc))), StopTimeUpdate(stop_id='L20S', arrival=UnixTimestamp(time=datetime.datetime(2022, 5, 7, 20, 12, 35, tzinfo=datetime.timezone.utc)), departure=UnixTimestamp(time=datetime.datetime(2022, 5, 7, 20, 12, 50, tzinfo=datetime.timezone.utc))), StopTimeUpdate(stop_id='L21S', arrival=UnixTimestamp(time=datetime.datetime(2022, 5, 7, 20, 13, 53, tzinfo=datetime.timezone.utc)), departure=UnixTimestamp(time=datetime.datetime(2022, 5, 7, 20, 14, 8, tzinfo=datetime.timezone.utc))), StopTimeUpdate(stop_id='L22S', arrival=UnixTimestamp(time=datetime.datetime(2022, 5, 7, 20, 16, 59, tzinfo=datetime.timezone.utc)), departure=None)])), Entity(id='10', vehicle=Vehicle(trip=Trip(trip_id='094850_L..S', start_time=None, start_date=20220507, route_id='L'), timestamp=datetime.datetime(2022, 5, 7, 19, 56, 13, tzinfo=datetime.timezone.utc), current_stop_sequence=5, stop_id='L08S'), trip_update=None), Entity(id='11', vehicle=None, trip_update=TripUpdate(trip=Trip(trip_id='095050_L..N', start_time=None, start_date=20220507, route_id='L'), stop_time_update=[StopTimeUpdate(stop_id='L16N', arrival=UnixTimestamp(time=datetime.datetime(2022, 5, 7, 19, 58, 10, tzinfo=datetime.timezone.utc)), departure=UnixTimestamp(time=datetime.datetime(2022, 5, 7, 19, 58, 25, tzinfo=datetime.timezone.utc))), StopTimeUpdate(stop_id='L15N', arrival=UnixTimestamp(time=datetime.datetime(2022, 5, 7, 19, 59, 22, tzinfo=datetime.timezone.utc)), departure=UnixTimestamp(time=datetime.datetime(2022, 5, 7, 19, 59, 37, tzinfo=datetime.timezone.utc))), StopTimeUpdate(stop_id='L14N', arrival=UnixTimestamp(time=datetime.datetime(2022, 5, 7, 20, 1, 10, tzinfo=datetime.timezone.utc)), departure=UnixTimestamp(time=datetime.datetime(2022, 5, 7, 20, 1, 25, tzinfo=datetime.timezone.utc))), StopTimeUpdate(stop_id='L13N', arrival=UnixTimestamp(time=datetime.datetime(2022, 5, 7, 20, 2, 46, tzinfo=datetime.timezone.utc)), departure=UnixTimestamp(time=datetime.datetime(2022, 5, 7, 20, 3, 1, tzinfo=datetime.timezone.utc))), StopTimeUpdate(stop_id='L12N', arrival=UnixTimestamp(time=datetime.datetime(2022, 5, 7, 20, 4, 4, tzinfo=datetime.timezone.utc)), departure=UnixTimestamp(time=datetime.datetime(2022, 5, 7, 20, 4, 19, tzinfo=datetime.timezone.utc))), StopTimeUpdate(stop_id='L11N', arrival=UnixTimestamp(time=datetime.datetime(2022, 5, 7, 20, 5, 16, tzinfo=datetime.timezone.utc)), departure=UnixTimestamp(time=datetime.datetime(2022, 5, 7, 20, 5, 31, tzinfo=datetime.timezone.utc))), StopTimeUpdate(stop_id='L10N', arrival=UnixTimestamp(time=datetime.datetime(2022, 5, 7, 20, 6, 34, tzinfo=datetime.timezone.utc)), departure=UnixTimestamp(time=datetime.datetime(2022, 5, 7, 20, 6, 49, tzinfo=datetime.timezone.utc))), StopTimeUpdate(stop_id='L08N', arrival=UnixTimestamp(time=datetime.datetime(2022, 5, 7, 20, 8, 24, tzinfo=datetime.timezone.utc)), departure=UnixTimestamp(time=datetime.datetime(2022, 5, 7, 20, 8, 39, tzinfo=datetime.timezone.utc))), StopTimeUpdate(stop_id='L06N', arrival=UnixTimestamp(time=datetime.datetime(2022, 5, 7, 20, 12, 24, tzinfo=datetime.timezone.utc)), departure=UnixTimestamp(time=datetime.datetime(2022, 5, 7, 20, 12, 39, tzinfo=datetime.timezone.utc))), StopTimeUpdate(stop_id='L05N', arrival=UnixTimestamp(time=datetime.datetime(2022, 5, 7, 20, 13, 24, tzinfo=datetime.timezone.utc)), departure=UnixTimestamp(time=datetime.datetime(2022, 5, 7, 20, 13, 39, tzinfo=datetime.timezone.utc))), StopTimeUpdate(stop_id='L03N', arrival=UnixTimestamp(time=datetime.datetime(2022, 5, 7, 20, 14, 44, tzinfo=datetime.timezone.utc)), departure=UnixTimestamp(time=datetime.datetime(2022, 5, 7, 20, 14, 59, tzinfo=datetime.timezone.utc))), StopTimeUpdate(stop_id='L02N', arrival=UnixTimestamp(time=datetime.datetime(2022, 5, 7, 20, 16, 14, tzinfo=datetime.timezone.utc)), departure=UnixTimestamp(time=datetime.datetime(2022, 5, 7, 20, 16, 29, tzinfo=datetime.timezone.utc))), StopTimeUpdate(stop_id='L01N', arrival=UnixTimestamp(time=datetime.datetime(2022, 5, 7, 20, 18, 44, tzinfo=datetime.timezone.utc)), departure=None)])), Entity(id='12', vehicle=Vehicle(trip=Trip(trip_id='095050_L..N', start_time=None, start_date=20220507, route_id='L'), timestamp=datetime.datetime(2022, 5, 7, 19, 56, 58, tzinfo=datetime.timezone.utc), current_stop_sequence=11, stop_id='L16N'), trip_update=None), Entity(id='13', vehicle=None, trip_update=TripUpdate(trip=Trip(trip_id='095650_L..S', start_time=None, start_date=20220507, route_id='L'), stop_time_update=[StopTimeUpdate(stop_id='L02S', arrival=UnixTimestamp(time=datetime.datetime(2022, 5, 7, 19, 58, 8, tzinfo=datetime.timezone.utc)), departure=UnixTimestamp(time=datetime.datetime(2022, 5, 7, 19, 58, 23, tzinfo=datetime.timezone.utc))), StopTimeUpdate(stop_id='L03S', arrival=UnixTimestamp(time=datetime.datetime(2022, 5, 7, 19, 59, 38, tzinfo=datetime.timezone.utc)), departure=UnixTimestamp(time=datetime.datetime(2022, 5, 7, 19, 59, 53, tzinfo=datetime.timezone.utc))), StopTimeUpdate(stop_id='L05S', arrival=UnixTimestamp(time=datetime.datetime(2022, 5, 7, 20, 0, 58, tzinfo=datetime.timezone.utc)), departure=UnixTimestamp(time=datetime.datetime(2022, 5, 7, 20, 1, 13, tzinfo=datetime.timezone.utc))), StopTimeUpdate(stop_id='L06S', arrival=UnixTimestamp(time=datetime.datetime(2022, 5, 7, 20, 1, 58, tzinfo=datetime.timezone.utc)), departure=UnixTimestamp(time=datetime.datetime(2022, 5, 7, 20, 2, 13, tzinfo=datetime.timezone.utc))), StopTimeUpdate(stop_id='L08S', arrival=UnixTimestamp(time=datetime.datetime(2022, 5, 7, 20, 5, 58, tzinfo=datetime.timezone.utc)), departure=UnixTimestamp(time=datetime.datetime(2022, 5, 7, 20, 6, 13, tzinfo=datetime.timezone.utc))), StopTimeUpdate(stop_id='L10S', arrival=UnixTimestamp(time=datetime.datetime(2022, 5, 7, 20, 7, 48, tzinfo=datetime.timezone.utc)), departure=UnixTimestamp(time=datetime.datetime(2022, 5, 7, 20, 8, 3, tzinfo=datetime.timezone.utc))), StopTimeUpdate(stop_id='L11S', arrival=UnixTimestamp(time=datetime.datetime(2022, 5, 7, 20, 9, 6, tzinfo=datetime.timezone.utc)), departure=UnixTimestamp(time=datetime.datetime(2022, 5, 7, 20, 9, 21, tzinfo=datetime.timezone.utc))), StopTimeUpdate(stop_id='L12S', arrival=UnixTimestamp(time=datetime.datetime(2022, 5, 7, 20, 10, 18, tzinfo=datetime.timezone.utc)), departure=UnixTimestamp(time=datetime.datetime(2022, 5, 7, 20, 10, 33, tzinfo=datetime.timezone.utc))), StopTimeUpdate(stop_id='L13S', arrival=UnixTimestamp(time=datetime.datetime(2022, 5, 7, 20, 11, 36, tzinfo=datetime.timezone.utc)), departure=UnixTimestamp(time=datetime.datetime(2022, 5, 7, 20, 11, 51, tzinfo=datetime.timezone.utc))), StopTimeUpdate(stop_id='L14S', arrival=UnixTimestamp(time=datetime.datetime(2022, 5, 7, 20, 13, 12, tzinfo=datetime.timezone.utc)), departure=UnixTimestamp(time=datetime.datetime(2022, 5, 7, 20, 13, 27, tzinfo=datetime.timezone.utc))), StopTimeUpdate(stop_id='L15S', arrival=UnixTimestamp(time=datetime.datetime(2022, 5, 7, 20, 15, tzinfo=datetime.timezone.utc)), departure=UnixTimestamp(time=datetime.datetime(2022, 5, 7, 20, 15, 15, tzinfo=datetime.timezone.utc))), StopTimeUpdate(stop_id='L16S', arrival=UnixTimestamp(time=datetime.datetime(2022, 5, 7, 20, 16, 12, tzinfo=datetime.timezone.utc)), departure=UnixTimestamp(time=datetime.datetime(2022, 5, 7, 20, 16, 27, tzinfo=datetime.timezone.utc))), StopTimeUpdate(stop_id='L17S', arrival=UnixTimestamp(time=datetime.datetime(2022, 5, 7, 20, 17, 48, tzinfo=datetime.timezone.utc)), departure=UnixTimestamp(time=datetime.datetime(2022, 5, 7, 20, 18, 3, tzinfo=datetime.timezone.utc))), StopTimeUpdate(stop_id='L19S', arrival=UnixTimestamp(time=datetime.datetime(2022, 5, 7, 20, 19, 12, tzinfo=datetime.timezone.utc)), departure=UnixTimestamp(time=datetime.datetime(2022, 5, 7, 20, 19, 27, tzinfo=datetime.timezone.utc))), StopTimeUpdate(stop_id='L20S', arrival=UnixTimestamp(time=datetime.datetime(2022, 5, 7, 20, 20, 54, tzinfo=datetime.timezone.utc)), departure=UnixTimestamp(time=datetime.datetime(2022, 5, 7, 20, 21, 9, tzinfo=datetime.timezone.utc))), StopTimeUpdate(stop_id='L21S', arrival=UnixTimestamp(time=datetime.datetime(2022, 5, 7, 20, 22, 12, tzinfo=datetime.timezone.utc)), departure=UnixTimestamp(time=datetime.datetime(2022, 5, 7, 20, 22, 27, tzinfo=datetime.timezone.utc))), StopTimeUpdate(stop_id='L22S', arrival=UnixTimestamp(time=datetime.datetime(2022, 5, 7, 20, 25, 18, tzinfo=datetime.timezone.utc)), departure=None)])), Entity(id='14', vehicle=Vehicle(trip=Trip(trip_id='095650_L..S', start_time=None, start_date=20220507, route_id='L'), timestamp=datetime.datetime(2022, 5, 7, 19, 56, 43, tzinfo=datetime.timezone.utc), current_stop_sequence=1, stop_id='L02S'), trip_update=None), Entity(id='15', vehicle=None, trip_update=TripUpdate(trip=Trip(trip_id='095850_L..N', start_time=None, start_date=20220507, route_id='L'), stop_time_update=[StopTimeUpdate(stop_id='L22N', arrival=UnixTimestamp(time=datetime.datetime(2022, 5, 7, 19, 58, 15, tzinfo=datetime.timezone.utc)), departure=UnixTimestamp(time=datetime.datetime(2022, 5, 7, 19, 58, 30, tzinfo=datetime.timezone.utc))), StopTimeUpdate(stop_id='L21N', arrival=UnixTimestamp(time=datetime.datetime(2022, 5, 7, 19, 59, 47, tzinfo=datetime.timezone.utc)), departure=UnixTimestamp(time=datetime.datetime(2022, 5, 7, 20, 0, 2, tzinfo=datetime.timezone.utc))), StopTimeUpdate(stop_id='L20N', arrival=UnixTimestamp(time=datetime.datetime(2022, 5, 7, 20, 1, 5, tzinfo=datetime.timezone.utc)), departure=UnixTimestamp(time=datetime.datetime(2022, 5, 7, 20, 1, 20, tzinfo=datetime.timezone.utc))), StopTimeUpdate(stop_id='L19N', arrival=UnixTimestamp(time=datetime.datetime(2022, 5, 7, 20, 2, 47, tzinfo=datetime.timezone.utc)), departure=UnixTimestamp(time=datetime.datetime(2022, 5, 7, 20, 3, 2, tzinfo=datetime.timezone.utc))), StopTimeUpdate(stop_id='L17N', arrival=UnixTimestamp(time=datetime.datetime(2022, 5, 7, 20, 4, 11, tzinfo=datetime.timezone.utc)), departure=UnixTimestamp(time=datetime.datetime(2022, 5, 7, 20, 4, 26, tzinfo=datetime.timezone.utc))), StopTimeUpdate(stop_id='L16N', arrival=UnixTimestamp(time=datetime.datetime(2022, 5, 7, 20, 5, 47, tzinfo=datetime.timezone.utc)), departure=UnixTimestamp(time=datetime.datetime(2022, 5, 7, 20, 6, 2, tzinfo=datetime.timezone.utc))), StopTimeUpdate(stop_id='L15N', arrival=UnixTimestamp(time=datetime.datetime(2022, 5, 7, 20, 6, 59, tzinfo=datetime.timezone.utc)), departure=UnixTimestamp(time=datetime.datetime(2022, 5, 7, 20, 7, 14, tzinfo=datetime.timezone.utc))), StopTimeUpdate(stop_id='L14N', arrival=UnixTimestamp(time=datetime.datetime(2022, 5, 7, 20, 8, 47, tzinfo=datetime.timezone.utc)), departure=UnixTimestamp(time=datetime.datetime(2022, 5, 7, 20, 9, 2, tzinfo=datetime.timezone.utc))), StopTimeUpdate(stop_id='L13N', arrival=UnixTimestamp(time=datetime.datetime(2022, 5, 7, 20, 10, 23, tzinfo=datetime.timezone.utc)), departure=UnixTimestamp(time=datetime.datetime(2022, 5, 7, 20, 10, 38, tzinfo=datetime.timezone.utc))), StopTimeUpdate(stop_id='L12N', arrival=UnixTimestamp(time=datetime.datetime(2022, 5, 7, 20, 11, 41, tzinfo=datetime.timezone.utc)), departure=UnixTimestamp(time=datetime.datetime(2022, 5, 7, 20, 11, 56, tzinfo=datetime.timezone.utc))), StopTimeUpdate(stop_id='L11N', arrival=UnixTimestamp(time=datetime.datetime(2022, 5, 7, 20, 12, 53, tzinfo=datetime.timezone.utc)), departure=UnixTimestamp(time=datetime.datetime(2022, 5, 7, 20, 13, 8, tzinfo=datetime.timezone.utc))), StopTimeUpdate(stop_id='L10N', arrival=UnixTimestamp(time=datetime.datetime(2022, 5, 7, 20, 14, 11, tzinfo=datetime.timezone.utc)), departure=UnixTimestamp(time=datetime.datetime(2022, 5, 7, 20, 14, 26, tzinfo=datetime.timezone.utc))), StopTimeUpdate(stop_id='L08N', arrival=UnixTimestamp(time=datetime.datetime(2022, 5, 7, 20, 16, 1, tzinfo=datetime.timezone.utc)), departure=UnixTimestamp(time=datetime.datetime(2022, 5, 7, 20, 16, 16, tzinfo=datetime.timezone.utc))), StopTimeUpdate(stop_id='L06N', arrival=UnixTimestamp(time=datetime.datetime(2022, 5, 7, 20, 20, 1, tzinfo=datetime.timezone.utc)), departure=UnixTimestamp(time=datetime.datetime(2022, 5, 7, 20, 20, 16, tzinfo=datetime.timezone.utc))), StopTimeUpdate(stop_id='L05N', arrival=UnixTimestamp(time=datetime.datetime(2022, 5, 7, 20, 21, 1, tzinfo=datetime.timezone.utc)), departure=UnixTimestamp(time=datetime.datetime(2022, 5, 7, 20, 21, 16, tzinfo=datetime.timezone.utc))), StopTimeUpdate(stop_id='L03N', arrival=UnixTimestamp(time=datetime.datetime(2022, 5, 7, 20, 22, 21, tzinfo=datetime.timezone.utc)), departure=UnixTimestamp(time=datetime.datetime(2022, 5, 7, 20, 22, 36, tzinfo=datetime.timezone.utc))), StopTimeUpdate(stop_id='L02N', arrival=UnixTimestamp(time=datetime.datetime(2022, 5, 7, 20, 23, 51, tzinfo=datetime.timezone.utc)), departure=UnixTimestamp(time=datetime.datetime(2022, 5, 7, 20, 24, 6, tzinfo=datetime.timezone.utc))), StopTimeUpdate(stop_id='L01N', arrival=UnixTimestamp(time=datetime.datetime(2022, 5, 7, 20, 26, 21, tzinfo=datetime.timezone.utc)), departure=None)])), Entity(id='16', vehicle=Vehicle(trip=Trip(trip_id='095850_L..N', start_time=None, start_date=20220507, route_id='L'), timestamp=datetime.datetime(2022, 5, 7, 19, 57, tzinfo=datetime.timezone.utc), current_stop_sequence=6, stop_id='L22N'), trip_update=None), Entity(id='17', vehicle=None, trip_update=TripUpdate(trip=Trip(trip_id='096450_L..S', start_time=None, start_date=20220507, route_id='L'), stop_time_update=[StopTimeUpdate(stop_id='L01S', arrival=None, departure=UnixTimestamp(time=datetime.datetime(2022, 5, 7, 20, 4, 30, tzinfo=datetime.timezone.utc))), StopTimeUpdate(stop_id='L02S', arrival=UnixTimestamp(time=datetime.datetime(2022, 5, 7, 20, 6, 8, tzinfo=datetime.timezone.utc)), departure=UnixTimestamp(time=datetime.datetime(2022, 5, 7, 20, 6, 23, tzinfo=datetime.timezone.utc))), StopTimeUpdate(stop_id='L03S', arrival=UnixTimestamp(time=datetime.datetime(2022, 5, 7, 20, 7, 38, tzinfo=datetime.timezone.utc)), departure=UnixTimestamp(time=datetime.datetime(2022, 5, 7, 20, 7, 53, tzinfo=datetime.timezone.utc))), StopTimeUpdate(stop_id='L05S', arrival=UnixTimestamp(time=datetime.datetime(2022, 5, 7, 20, 8, 58, tzinfo=datetime.timezone.utc)), departure=UnixTimestamp(time=datetime.datetime(2022, 5, 7, 20, 9, 13, tzinfo=datetime.timezone.utc))), StopTimeUpdate(stop_id='L06S', arrival=UnixTimestamp(time=datetime.datetime(2022, 5, 7, 20, 9, 58, tzinfo=datetime.timezone.utc)), departure=UnixTimestamp(time=datetime.datetime(2022, 5, 7, 20, 10, 13, tzinfo=datetime.timezone.utc))), StopTimeUpdate(stop_id='L08S', arrival=UnixTimestamp(time=datetime.datetime(2022, 5, 7, 20, 13, 58, tzinfo=datetime.timezone.utc)), departure=UnixTimestamp(time=datetime.datetime(2022, 5, 7, 20, 14, 13, tzinfo=datetime.timezone.utc))), StopTimeUpdate(stop_id='L10S', arrival=UnixTimestamp(time=datetime.datetime(2022, 5, 7, 20, 15, 48, tzinfo=datetime.timezone.utc)), departure=UnixTimestamp(time=datetime.datetime(2022, 5, 7, 20, 16, 3, tzinfo=datetime.timezone.utc))), StopTimeUpdate(stop_id='L11S', arrival=UnixTimestamp(time=datetime.datetime(2022, 5, 7, 20, 17, 6, tzinfo=datetime.timezone.utc)), departure=UnixTimestamp(time=datetime.datetime(2022, 5, 7, 20, 17, 21, tzinfo=datetime.timezone.utc))), StopTimeUpdate(stop_id='L12S', arrival=UnixTimestamp(time=datetime.datetime(2022, 5, 7, 20, 18, 18, tzinfo=datetime.timezone.utc)), departure=UnixTimestamp(time=datetime.datetime(2022, 5, 7, 20, 18, 33, tzinfo=datetime.timezone.utc))), StopTimeUpdate(stop_id='L13S', arrival=UnixTimestamp(time=datetime.datetime(2022, 5, 7, 20, 19, 36, tzinfo=datetime.timezone.utc)), departure=UnixTimestamp(time=datetime.datetime(2022, 5, 7, 20, 19, 51, tzinfo=datetime.timezone.utc))), StopTimeUpdate(stop_id='L14S', arrival=UnixTimestamp(time=datetime.datetime(2022, 5, 7, 20, 21, 12, tzinfo=datetime.timezone.utc)), departure=UnixTimestamp(time=datetime.datetime(2022, 5, 7, 20, 21, 27, tzinfo=datetime.timezone.utc))), StopTimeUpdate(stop_id='L15S', arrival=UnixTimestamp(time=datetime.datetime(2022, 5, 7, 20, 23, tzinfo=datetime.timezone.utc)), departure=UnixTimestamp(time=datetime.datetime(2022, 5, 7, 20, 23, 15, tzinfo=datetime.timezone.utc))), StopTimeUpdate(stop_id='L16S', arrival=UnixTimestamp(time=datetime.datetime(2022, 5, 7, 20, 24, 12, tzinfo=datetime.timezone.utc)), departure=UnixTimestamp(time=datetime.datetime(2022, 5, 7, 20, 24, 27, tzinfo=datetime.timezone.utc))), StopTimeUpdate(stop_id='L17S', arrival=UnixTimestamp(time=datetime.datetime(2022, 5, 7, 20, 25, 48, tzinfo=datetime.timezone.utc)), departure=UnixTimestamp(time=datetime.datetime(2022, 5, 7, 20, 26, 3, tzinfo=datetime.timezone.utc))), StopTimeUpdate(stop_id='L19S', arrival=UnixTimestamp(time=datetime.datetime(2022, 5, 7, 20, 27, 12, tzinfo=datetime.timezone.utc)), departure=UnixTimestamp(time=datetime.datetime(2022, 5, 7, 20, 27, 27, tzinfo=datetime.timezone.utc))), StopTimeUpdate(stop_id='L20S', arrival=UnixTimestamp(time=datetime.datetime(2022, 5, 7, 20, 28, 54, tzinfo=datetime.timezone.utc)), departure=UnixTimestamp(time=datetime.datetime(2022, 5, 7, 20, 29, 9, tzinfo=datetime.timezone.utc))), StopTimeUpdate(stop_id='L21S', arrival=UnixTimestamp(time=datetime.datetime(2022, 5, 7, 20, 30, 12, tzinfo=datetime.timezone.utc)), departure=UnixTimestamp(time=datetime.datetime(2022, 5, 7, 20, 30, 27, tzinfo=datetime.timezone.utc))), StopTimeUpdate(stop_id='L22S', arrival=UnixTimestamp(time=datetime.datetime(2022, 5, 7, 20, 33, 18, tzinfo=datetime.timezone.utc)), departure=None)])), Entity(id='18', vehicle=Vehicle(trip=Trip(trip_id='096450_L..S', start_time=None, start_date=20220507, route_id='L'), timestamp=datetime.datetime(2022, 5, 7, 19, 57, tzinfo=datetime.timezone.utc), current_stop_sequence=0, stop_id='L01S'), trip_update=None), Entity(id='19', vehicle=None, trip_update=TripUpdate(trip=Trip(trip_id='096650_L..N', start_time=None, start_date=20220507, route_id='L'), stop_time_update=[StopTimeUpdate(stop_id='L22N', arrival=UnixTimestamp(time=datetime.datetime(2022, 5, 7, 20, 6, 15, tzinfo=datetime.timezone.utc)), departure=UnixTimestamp(time=datetime.datetime(2022, 5, 7, 20, 6, 30, tzinfo=datetime.timezone.utc))), StopTimeUpdate(stop_id='L21N', arrival=UnixTimestamp(time=datetime.datetime(2022, 5, 7, 20, 7, 47, tzinfo=datetime.timezone.utc)), departure=UnixTimestamp(time=datetime.datetime(2022, 5, 7, 20, 8, 2, tzinfo=datetime.timezone.utc))), StopTimeUpdate(stop_id='L20N', arrival=UnixTimestamp(time=datetime.datetime(2022, 5, 7, 20, 9, 5, tzinfo=datetime.timezone.utc)), departure=UnixTimestamp(time=datetime.datetime(2022, 5, 7, 20, 9, 20, tzinfo=datetime.timezone.utc))), StopTimeUpdate(stop_id='L19N', arrival=UnixTimestamp(time=datetime.datetime(2022, 5, 7, 20, 10, 47, tzinfo=datetime.timezone.utc)), departure=UnixTimestamp(time=datetime.datetime(2022, 5, 7, 20, 11, 2, tzinfo=datetime.timezone.utc))), StopTimeUpdate(stop_id='L17N', arrival=UnixTimestamp(time=datetime.datetime(2022, 5, 7, 20, 12, 11, tzinfo=datetime.timezone.utc)), departure=UnixTimestamp(time=datetime.datetime(2022, 5, 7, 20, 12, 26, tzinfo=datetime.timezone.utc))), StopTimeUpdate(stop_id='L16N', arrival=UnixTimestamp(time=datetime.datetime(2022, 5, 7, 20, 13, 47, tzinfo=datetime.timezone.utc)), departure=UnixTimestamp(time=datetime.datetime(2022, 5, 7, 20, 14, 2, tzinfo=datetime.timezone.utc))), StopTimeUpdate(stop_id='L15N', arrival=UnixTimestamp(time=datetime.datetime(2022, 5, 7, 20, 14, 59, tzinfo=datetime.timezone.utc)), departure=UnixTimestamp(time=datetime.datetime(2022, 5, 7, 20, 15, 14, tzinfo=datetime.timezone.utc))), StopTimeUpdate(stop_id='L14N', arrival=UnixTimestamp(time=datetime.datetime(2022, 5, 7, 20, 16, 47, tzinfo=datetime.timezone.utc)), departure=UnixTimestamp(time=datetime.datetime(2022, 5, 7, 20, 17, 2, tzinfo=datetime.timezone.utc))), StopTimeUpdate(stop_id='L13N', arrival=UnixTimestamp(time=datetime.datetime(2022, 5, 7, 20, 18, 23, tzinfo=datetime.timezone.utc)), departure=UnixTimestamp(time=datetime.datetime(2022, 5, 7, 20, 18, 38, tzinfo=datetime.timezone.utc))), StopTimeUpdate(stop_id='L12N', arrival=UnixTimestamp(time=datetime.datetime(2022, 5, 7, 20, 19, 41, tzinfo=datetime.timezone.utc)), departure=UnixTimestamp(time=datetime.datetime(2022, 5, 7, 20, 19, 56, tzinfo=datetime.timezone.utc))), StopTimeUpdate(stop_id='L11N', arrival=UnixTimestamp(time=datetime.datetime(2022, 5, 7, 20, 20, 53, tzinfo=datetime.timezone.utc)), departure=UnixTimestamp(time=datetime.datetime(2022, 5, 7, 20, 21, 8, tzinfo=datetime.timezone.utc))), StopTimeUpdate(stop_id='L10N', arrival=UnixTimestamp(time=datetime.datetime(2022, 5, 7, 20, 22, 11, tzinfo=datetime.timezone.utc)), departure=UnixTimestamp(time=datetime.datetime(2022, 5, 7, 20, 22, 26, tzinfo=datetime.timezone.utc))), StopTimeUpdate(stop_id='L08N', arrival=UnixTimestamp(time=datetime.datetime(2022, 5, 7, 20, 24, 1, tzinfo=datetime.timezone.utc)), departure=UnixTimestamp(time=datetime.datetime(2022, 5, 7, 20, 24, 16, tzinfo=datetime.timezone.utc))), StopTimeUpdate(stop_id='L06N', arrival=UnixTimestamp(time=datetime.datetime(2022, 5, 7, 20, 28, 1, tzinfo=datetime.timezone.utc)), departure=UnixTimestamp(time=datetime.datetime(2022, 5, 7, 20, 28, 16, tzinfo=datetime.timezone.utc))), StopTimeUpdate(stop_id='L05N', arrival=UnixTimestamp(time=datetime.datetime(2022, 5, 7, 20, 29, 1, tzinfo=datetime.timezone.utc)), departure=UnixTimestamp(time=datetime.datetime(2022, 5, 7, 20, 29, 16, tzinfo=datetime.timezone.utc))), StopTimeUpdate(stop_id='L03N', arrival=UnixTimestamp(time=datetime.datetime(2022, 5, 7, 20, 30, 21, tzinfo=datetime.timezone.utc)), departure=UnixTimestamp(time=datetime.datetime(2022, 5, 7, 20, 30, 36, tzinfo=datetime.timezone.utc))), StopTimeUpdate(stop_id='L02N', arrival=UnixTimestamp(time=datetime.datetime(2022, 5, 7, 20, 31, 51, tzinfo=datetime.timezone.utc)), departure=UnixTimestamp(time=datetime.datetime(2022, 5, 7, 20, 32, 6, tzinfo=datetime.timezone.utc))), StopTimeUpdate(stop_id='L01N', arrival=UnixTimestamp(time=datetime.datetime(2022, 5, 7, 20, 34, 21, tzinfo=datetime.timezone.utc)), departure=None)])), Entity(id='20', vehicle=None, trip_update=TripUpdate(trip=Trip(trip_id='097250_L..S', start_time=None, start_date=20220507, route_id='L'), stop_time_update=[StopTimeUpdate(stop_id='L01S', arrival=None, departure=UnixTimestamp(time=datetime.datetime(2022, 5, 7, 20, 12, 30, tzinfo=datetime.timezone.utc))), StopTimeUpdate(stop_id='L02S', arrival=UnixTimestamp(time=datetime.datetime(2022, 5, 7, 20, 14, 8, tzinfo=datetime.timezone.utc)), departure=UnixTimestamp(time=datetime.datetime(2022, 5, 7, 20, 14, 23, tzinfo=datetime.timezone.utc))), StopTimeUpdate(stop_id='L03S', arrival=UnixTimestamp(time=datetime.datetime(2022, 5, 7, 20, 15, 38, tzinfo=datetime.timezone.utc)), departure=UnixTimestamp(time=datetime.datetime(2022, 5, 7, 20, 15, 53, tzinfo=datetime.timezone.utc))), StopTimeUpdate(stop_id='L05S', arrival=UnixTimestamp(time=datetime.datetime(2022, 5, 7, 20, 16, 58, tzinfo=datetime.timezone.utc)), departure=UnixTimestamp(time=datetime.datetime(2022, 5, 7, 20, 17, 13, tzinfo=datetime.timezone.utc))), StopTimeUpdate(stop_id='L06S', arrival=UnixTimestamp(time=datetime.datetime(2022, 5, 7, 20, 17, 58, tzinfo=datetime.timezone.utc)), departure=UnixTimestamp(time=datetime.datetime(2022, 5, 7, 20, 18, 13, tzinfo=datetime.timezone.utc))), StopTimeUpdate(stop_id='L08S', arrival=UnixTimestamp(time=datetime.datetime(2022, 5, 7, 20, 21, 58, tzinfo=datetime.timezone.utc)), departure=UnixTimestamp(time=datetime.datetime(2022, 5, 7, 20, 22, 13, tzinfo=datetime.timezone.utc))), StopTimeUpdate(stop_id='L10S', arrival=UnixTimestamp(time=datetime.datetime(2022, 5, 7, 20, 23, 48, tzinfo=datetime.timezone.utc)), departure=UnixTimestamp(time=datetime.datetime(2022, 5, 7, 20, 24, 3, tzinfo=datetime.timezone.utc))), StopTimeUpdate(stop_id='L11S', arrival=UnixTimestamp(time=datetime.datetime(2022, 5, 7, 20, 25, 6, tzinfo=datetime.timezone.utc)), departure=UnixTimestamp(time=datetime.datetime(2022, 5, 7, 20, 25, 21, tzinfo=datetime.timezone.utc))), StopTimeUpdate(stop_id='L12S', arrival=UnixTimestamp(time=datetime.datetime(2022, 5, 7, 20, 26, 18, tzinfo=datetime.timezone.utc)), departure=UnixTimestamp(time=datetime.datetime(2022, 5, 7, 20, 26, 33, tzinfo=datetime.timezone.utc))), StopTimeUpdate(stop_id='L13S', arrival=UnixTimestamp(time=datetime.datetime(2022, 5, 7, 20, 27, 36, tzinfo=datetime.timezone.utc)), departure=UnixTimestamp(time=datetime.datetime(2022, 5, 7, 20, 27, 51, tzinfo=datetime.timezone.utc))), StopTimeUpdate(stop_id='L14S', arrival=UnixTimestamp(time=datetime.datetime(2022, 5, 7, 20, 29, 12, tzinfo=datetime.timezone.utc)), departure=UnixTimestamp(time=datetime.datetime(2022, 5, 7, 20, 29, 27, tzinfo=datetime.timezone.utc))), StopTimeUpdate(stop_id='L15S', arrival=UnixTimestamp(time=datetime.datetime(2022, 5, 7, 20, 31, tzinfo=datetime.timezone.utc)), departure=UnixTimestamp(time=datetime.datetime(2022, 5, 7, 20, 31, 15, tzinfo=datetime.timezone.utc))), StopTimeUpdate(stop_id='L16S', arrival=UnixTimestamp(time=datetime.datetime(2022, 5, 7, 20, 32, 12, tzinfo=datetime.timezone.utc)), departure=UnixTimestamp(time=datetime.datetime(2022, 5, 7, 20, 32, 27, tzinfo=datetime.timezone.utc))), StopTimeUpdate(stop_id='L17S', arrival=UnixTimestamp(time=datetime.datetime(2022, 5, 7, 20, 33, 48, tzinfo=datetime.timezone.utc)), departure=UnixTimestamp(time=datetime.datetime(2022, 5, 7, 20, 34, 3, tzinfo=datetime.timezone.utc))), StopTimeUpdate(stop_id='L19S', arrival=UnixTimestamp(time=datetime.datetime(2022, 5, 7, 20, 35, 12, tzinfo=datetime.timezone.utc)), departure=UnixTimestamp(time=datetime.datetime(2022, 5, 7, 20, 35, 27, tzinfo=datetime.timezone.utc))), StopTimeUpdate(stop_id='L20S', arrival=UnixTimestamp(time=datetime.datetime(2022, 5, 7, 20, 36, 54, tzinfo=datetime.timezone.utc)), departure=UnixTimestamp(time=datetime.datetime(2022, 5, 7, 20, 37, 9, tzinfo=datetime.timezone.utc))), StopTimeUpdate(stop_id='L21S', arrival=UnixTimestamp(time=datetime.datetime(2022, 5, 7, 20, 38, 12, tzinfo=datetime.timezone.utc)), departure=UnixTimestamp(time=datetime.datetime(2022, 5, 7, 20, 38, 27, tzinfo=datetime.timezone.utc))), StopTimeUpdate(stop_id='L22S', arrival=UnixTimestamp(time=datetime.datetime(2022, 5, 7, 20, 41, 18, tzinfo=datetime.timezone.utc)), departure=None)])), Entity(id='21', vehicle=None, trip_update=TripUpdate(trip=Trip(trip_id='097450_L..N', start_time=None, start_date=20220507, route_id='L'), stop_time_update=[StopTimeUpdate(stop_id='L22N', arrival=UnixTimestamp(time=datetime.datetime(2022, 5, 7, 20, 14, 15, tzinfo=datetime.timezone.utc)), departure=UnixTimestamp(time=datetime.datetime(2022, 5, 7, 20, 14, 30, tzinfo=datetime.timezone.utc))), StopTimeUpdate(stop_id='L21N', arrival=UnixTimestamp(time=datetime.datetime(2022, 5, 7, 20, 15, 47, tzinfo=datetime.timezone.utc)), departure=UnixTimestamp(time=datetime.datetime(2022, 5, 7, 20, 16, 2, tzinfo=datetime.timezone.utc))), StopTimeUpdate(stop_id='L20N', arrival=UnixTimestamp(time=datetime.datetime(2022, 5, 7, 20, 17, 5, tzinfo=datetime.timezone.utc)), departure=UnixTimestamp(time=datetime.datetime(2022, 5, 7, 20, 17, 20, tzinfo=datetime.timezone.utc))), StopTimeUpdate(stop_id='L19N', arrival=UnixTimestamp(time=datetime.datetime(2022, 5, 7, 20, 18, 47, tzinfo=datetime.timezone.utc)), departure=UnixTimestamp(time=datetime.datetime(2022, 5, 7, 20, 19, 2, tzinfo=datetime.timezone.utc))), StopTimeUpdate(stop_id='L17N', arrival=UnixTimestamp(time=datetime.datetime(2022, 5, 7, 20, 20, 11, tzinfo=datetime.timezone.utc)), departure=UnixTimestamp(time=datetime.datetime(2022, 5, 7, 20, 20, 26, tzinfo=datetime.timezone.utc))), StopTimeUpdate(stop_id='L16N', arrival=UnixTimestamp(time=datetime.datetime(2022, 5, 7, 20, 21, 47, tzinfo=datetime.timezone.utc)), departure=UnixTimestamp(time=datetime.datetime(2022, 5, 7, 20, 22, 2, tzinfo=datetime.timezone.utc))), StopTimeUpdate(stop_id='L15N', arrival=UnixTimestamp(time=datetime.datetime(2022, 5, 7, 20, 22, 59, tzinfo=datetime.timezone.utc)), departure=UnixTimestamp(time=datetime.datetime(2022, 5, 7, 20, 23, 14, tzinfo=datetime.timezone.utc))), StopTimeUpdate(stop_id='L14N', arrival=UnixTimestamp(time=datetime.datetime(2022, 5, 7, 20, 24, 47, tzinfo=datetime.timezone.utc)), departure=UnixTimestamp(time=datetime.datetime(2022, 5, 7, 20, 25, 2, tzinfo=datetime.timezone.utc))), StopTimeUpdate(stop_id='L13N', arrival=UnixTimestamp(time=datetime.datetime(2022, 5, 7, 20, 26, 23, tzinfo=datetime.timezone.utc)), departure=UnixTimestamp(time=datetime.datetime(2022, 5, 7, 20, 26, 38, tzinfo=datetime.timezone.utc))), StopTimeUpdate(stop_id='L12N', arrival=UnixTimestamp(time=datetime.datetime(2022, 5, 7, 20, 27, 41, tzinfo=datetime.timezone.utc)), departure=UnixTimestamp(time=datetime.datetime(2022, 5, 7, 20, 27, 56, tzinfo=datetime.timezone.utc))), StopTimeUpdate(stop_id='L11N', arrival=UnixTimestamp(time=datetime.datetime(2022, 5, 7, 20, 28, 53, tzinfo=datetime.timezone.utc)), departure=UnixTimestamp(time=datetime.datetime(2022, 5, 7, 20, 29, 8, tzinfo=datetime.timezone.utc))), StopTimeUpdate(stop_id='L10N', arrival=UnixTimestamp(time=datetime.datetime(2022, 5, 7, 20, 30, 11, tzinfo=datetime.timezone.utc)), departure=UnixTimestamp(time=datetime.datetime(2022, 5, 7, 20, 30, 26, tzinfo=datetime.timezone.utc))), StopTimeUpdate(stop_id='L08N', arrival=UnixTimestamp(time=datetime.datetime(2022, 5, 7, 20, 32, 1, tzinfo=datetime.timezone.utc)), departure=UnixTimestamp(time=datetime.datetime(2022, 5, 7, 20, 32, 16, tzinfo=datetime.timezone.utc))), StopTimeUpdate(stop_id='L06N', arrival=UnixTimestamp(time=datetime.datetime(2022, 5, 7, 20, 36, 1, tzinfo=datetime.timezone.utc)), departure=UnixTimestamp(time=datetime.datetime(2022, 5, 7, 20, 36, 16, tzinfo=datetime.timezone.utc))), StopTimeUpdate(stop_id='L05N', arrival=UnixTimestamp(time=datetime.datetime(2022, 5, 7, 20, 37, 1, tzinfo=datetime.timezone.utc)), departure=UnixTimestamp(time=datetime.datetime(2022, 5, 7, 20, 37, 16, tzinfo=datetime.timezone.utc))), StopTimeUpdate(stop_id='L03N', arrival=UnixTimestamp(time=datetime.datetime(2022, 5, 7, 20, 38, 21, tzinfo=datetime.timezone.utc)), departure=UnixTimestamp(time=datetime.datetime(2022, 5, 7, 20, 38, 36, tzinfo=datetime.timezone.utc))), StopTimeUpdate(stop_id='L02N', arrival=UnixTimestamp(time=datetime.datetime(2022, 5, 7, 20, 39, 51, tzinfo=datetime.timezone.utc)), departure=UnixTimestamp(time=datetime.datetime(2022, 5, 7, 20, 40, 6, tzinfo=datetime.timezone.utc))), StopTimeUpdate(stop_id='L01N', arrival=UnixTimestamp(time=datetime.datetime(2022, 5, 7, 20, 42, 21, tzinfo=datetime.timezone.utc)), departure=None)])), Entity(id='22', vehicle=None, trip_update=TripUpdate(trip=Trip(trip_id='098050_L..S', start_time=None, start_date=20220507, route_id='L'), stop_time_update=[StopTimeUpdate(stop_id='L01S', arrival=None, departure=UnixTimestamp(time=datetime.datetime(2022, 5, 7, 20, 20, 30, tzinfo=datetime.timezone.utc))), StopTimeUpdate(stop_id='L02S', arrival=UnixTimestamp(time=datetime.datetime(2022, 5, 7, 20, 22, 8, tzinfo=datetime.timezone.utc)), departure=UnixTimestamp(time=datetime.datetime(2022, 5, 7, 20, 22, 23, tzinfo=datetime.timezone.utc))), StopTimeUpdate(stop_id='L03S', arrival=UnixTimestamp(time=datetime.datetime(2022, 5, 7, 20, 23, 38, tzinfo=datetime.timezone.utc)), departure=UnixTimestamp(time=datetime.datetime(2022, 5, 7, 20, 23, 53, tzinfo=datetime.timezone.utc))), StopTimeUpdate(stop_id='L05S', arrival=UnixTimestamp(time=datetime.datetime(2022, 5, 7, 20, 24, 58, tzinfo=datetime.timezone.utc)), departure=UnixTimestamp(time=datetime.datetime(2022, 5, 7, 20, 25, 13, tzinfo=datetime.timezone.utc))), StopTimeUpdate(stop_id='L06S', arrival=UnixTimestamp(time=datetime.datetime(2022, 5, 7, 20, 25, 58, tzinfo=datetime.timezone.utc)), departure=UnixTimestamp(time=datetime.datetime(2022, 5, 7, 20, 26, 13, tzinfo=datetime.timezone.utc))), StopTimeUpdate(stop_id='L08S', arrival=UnixTimestamp(time=datetime.datetime(2022, 5, 7, 20, 29, 58, tzinfo=datetime.timezone.utc)), departure=UnixTimestamp(time=datetime.datetime(2022, 5, 7, 20, 30, 13, tzinfo=datetime.timezone.utc))), StopTimeUpdate(stop_id='L10S', arrival=UnixTimestamp(time=datetime.datetime(2022, 5, 7, 20, 31, 48, tzinfo=datetime.timezone.utc)), departure=UnixTimestamp(time=datetime.datetime(2022, 5, 7, 20, 32, 3, tzinfo=datetime.timezone.utc))), StopTimeUpdate(stop_id='L11S', arrival=UnixTimestamp(time=datetime.datetime(2022, 5, 7, 20, 33, 6, tzinfo=datetime.timezone.utc)), departure=UnixTimestamp(time=datetime.datetime(2022, 5, 7, 20, 33, 21, tzinfo=datetime.timezone.utc))), StopTimeUpdate(stop_id='L12S', arrival=UnixTimestamp(time=datetime.datetime(2022, 5, 7, 20, 34, 18, tzinfo=datetime.timezone.utc)), departure=UnixTimestamp(time=datetime.datetime(2022, 5, 7, 20, 34, 33, tzinfo=datetime.timezone.utc))), StopTimeUpdate(stop_id='L13S', arrival=UnixTimestamp(time=datetime.datetime(2022, 5, 7, 20, 35, 36, tzinfo=datetime.timezone.utc)), departure=UnixTimestamp(time=datetime.datetime(2022, 5, 7, 20, 35, 51, tzinfo=datetime.timezone.utc))), StopTimeUpdate(stop_id='L14S', arrival=UnixTimestamp(time=datetime.datetime(2022, 5, 7, 20, 37, 12, tzinfo=datetime.timezone.utc)), departure=UnixTimestamp(time=datetime.datetime(2022, 5, 7, 20, 37, 27, tzinfo=datetime.timezone.utc))), StopTimeUpdate(stop_id='L15S', arrival=UnixTimestamp(time=datetime.datetime(2022, 5, 7, 20, 39, tzinfo=datetime.timezone.utc)), departure=UnixTimestamp(time=datetime.datetime(2022, 5, 7, 20, 39, 15, tzinfo=datetime.timezone.utc))), StopTimeUpdate(stop_id='L16S', arrival=UnixTimestamp(time=datetime.datetime(2022, 5, 7, 20, 40, 12, tzinfo=datetime.timezone.utc)), departure=UnixTimestamp(time=datetime.datetime(2022, 5, 7, 20, 40, 27, tzinfo=datetime.timezone.utc))), StopTimeUpdate(stop_id='L17S', arrival=UnixTimestamp(time=datetime.datetime(2022, 5, 7, 20, 41, 48, tzinfo=datetime.timezone.utc)), departure=UnixTimestamp(time=datetime.datetime(2022, 5, 7, 20, 42, 3, tzinfo=datetime.timezone.utc))), StopTimeUpdate(stop_id='L19S', arrival=UnixTimestamp(time=datetime.datetime(2022, 5, 7, 20, 43, 12, tzinfo=datetime.timezone.utc)), departure=UnixTimestamp(time=datetime.datetime(2022, 5, 7, 20, 43, 27, tzinfo=datetime.timezone.utc))), StopTimeUpdate(stop_id='L20S', arrival=UnixTimestamp(time=datetime.datetime(2022, 5, 7, 20, 44, 54, tzinfo=datetime.timezone.utc)), departure=UnixTimestamp(time=datetime.datetime(2022, 5, 7, 20, 45, 9, tzinfo=datetime.timezone.utc))), StopTimeUpdate(stop_id='L21S', arrival=UnixTimestamp(time=datetime.datetime(2022, 5, 7, 20, 46, 12, tzinfo=datetime.timezone.utc)), departure=UnixTimestamp(time=datetime.datetime(2022, 5, 7, 20, 46, 27, tzinfo=datetime.timezone.utc))), StopTimeUpdate(stop_id='L22S', arrival=UnixTimestamp(time=datetime.datetime(2022, 5, 7, 20, 49, 18, tzinfo=datetime.timezone.utc)), departure=None)])), Entity(id='23', vehicle=None, trip_update=TripUpdate(trip=Trip(trip_id='098250_L..N', start_time=None, start_date=20220507, route_id='L'), stop_time_update=[StopTimeUpdate(stop_id='L22N', arrival=UnixTimestamp(time=datetime.datetime(2022, 5, 7, 20, 22, 15, tzinfo=datetime.timezone.utc)), departure=UnixTimestamp(time=datetime.datetime(2022, 5, 7, 20, 22, 30, tzinfo=datetime.timezone.utc))), StopTimeUpdate(stop_id='L21N', arrival=UnixTimestamp(time=datetime.datetime(2022, 5, 7, 20, 23, 47, tzinfo=datetime.timezone.utc)), departure=UnixTimestamp(time=datetime.datetime(2022, 5, 7, 20, 24, 2, tzinfo=datetime.timezone.utc))), StopTimeUpdate(stop_id='L20N', arrival=UnixTimestamp(time=datetime.datetime(2022, 5, 7, 20, 25, 5, tzinfo=datetime.timezone.utc)), departure=UnixTimestamp(time=datetime.datetime(2022, 5, 7, 20, 25, 20, tzinfo=datetime.timezone.utc))), StopTimeUpdate(stop_id='L19N', arrival=UnixTimestamp(time=datetime.datetime(2022, 5, 7, 20, 26, 47, tzinfo=datetime.timezone.utc)), departure=UnixTimestamp(time=datetime.datetime(2022, 5, 7, 20, 27, 2, tzinfo=datetime.timezone.utc))), StopTimeUpdate(stop_id='L17N', arrival=UnixTimestamp(time=datetime.datetime(2022, 5, 7, 20, 28, 11, tzinfo=datetime.timezone.utc)), departure=UnixTimestamp(time=datetime.datetime(2022, 5, 7, 20, 28, 26, tzinfo=datetime.timezone.utc))), StopTimeUpdate(stop_id='L16N', arrival=UnixTimestamp(time=datetime.datetime(2022, 5, 7, 20, 29, 47, tzinfo=datetime.timezone.utc)), departure=UnixTimestamp(time=datetime.datetime(2022, 5, 7, 20, 30, 2, tzinfo=datetime.timezone.utc))), StopTimeUpdate(stop_id='L15N', arrival=UnixTimestamp(time=datetime.datetime(2022, 5, 7, 20, 30, 59, tzinfo=datetime.timezone.utc)), departure=UnixTimestamp(time=datetime.datetime(2022, 5, 7, 20, 31, 14, tzinfo=datetime.timezone.utc))), StopTimeUpdate(stop_id='L14N', arrival=UnixTimestamp(time=datetime.datetime(2022, 5, 7, 20, 32, 47, tzinfo=datetime.timezone.utc)), departure=UnixTimestamp(time=datetime.datetime(2022, 5, 7, 20, 33, 2, tzinfo=datetime.timezone.utc))), StopTimeUpdate(stop_id='L13N', arrival=UnixTimestamp(time=datetime.datetime(2022, 5, 7, 20, 34, 23, tzinfo=datetime.timezone.utc)), departure=UnixTimestamp(time=datetime.datetime(2022, 5, 7, 20, 34, 38, tzinfo=datetime.timezone.utc))), StopTimeUpdate(stop_id='L12N', arrival=UnixTimestamp(time=datetime.datetime(2022, 5, 7, 20, 35, 41, tzinfo=datetime.timezone.utc)), departure=UnixTimestamp(time=datetime.datetime(2022, 5, 7, 20, 35, 56, tzinfo=datetime.timezone.utc))), StopTimeUpdate(stop_id='L11N', arrival=UnixTimestamp(time=datetime.datetime(2022, 5, 7, 20, 36, 53, tzinfo=datetime.timezone.utc)), departure=UnixTimestamp(time=datetime.datetime(2022, 5, 7, 20, 37, 8, tzinfo=datetime.timezone.utc))), StopTimeUpdate(stop_id='L10N', arrival=UnixTimestamp(time=datetime.datetime(2022, 5, 7, 20, 38, 11, tzinfo=datetime.timezone.utc)), departure=UnixTimestamp(time=datetime.datetime(2022, 5, 7, 20, 38, 26, tzinfo=datetime.timezone.utc))), StopTimeUpdate(stop_id='L08N', arrival=UnixTimestamp(time=datetime.datetime(2022, 5, 7, 20, 40, 1, tzinfo=datetime.timezone.utc)), departure=UnixTimestamp(time=datetime.datetime(2022, 5, 7, 20, 40, 16, tzinfo=datetime.timezone.utc))), StopTimeUpdate(stop_id='L06N', arrival=UnixTimestamp(time=datetime.datetime(2022, 5, 7, 20, 44, 1, tzinfo=datetime.timezone.utc)), departure=UnixTimestamp(time=datetime.datetime(2022, 5, 7, 20, 44, 16, tzinfo=datetime.timezone.utc))), StopTimeUpdate(stop_id='L05N', arrival=UnixTimestamp(time=datetime.datetime(2022, 5, 7, 20, 45, 1, tzinfo=datetime.timezone.utc)), departure=UnixTimestamp(time=datetime.datetime(2022, 5, 7, 20, 45, 16, tzinfo=datetime.timezone.utc))), StopTimeUpdate(stop_id='L03N', arrival=UnixTimestamp(time=datetime.datetime(2022, 5, 7, 20, 46, 21, tzinfo=datetime.timezone.utc)), departure=UnixTimestamp(time=datetime.datetime(2022, 5, 7, 20, 46, 36, tzinfo=datetime.timezone.utc))), StopTimeUpdate(stop_id='L02N', arrival=UnixTimestamp(time=datetime.datetime(2022, 5, 7, 20, 47, 51, tzinfo=datetime.timezone.utc)), departure=UnixTimestamp(time=datetime.datetime(2022, 5, 7, 20, 48, 6, tzinfo=datetime.timezone.utc))), StopTimeUpdate(stop_id='L01N', arrival=UnixTimestamp(time=datetime.datetime(2022, 5, 7, 20, 50, 21, tzinfo=datetime.timezone.utc)), departure=None)]))]\n"
          ]
        }
      ]
    },
    {
      "cell_type": "code",
      "source": [
        "! underground stops Q | grep Q05S"
      ],
      "metadata": {
        "colab": {
          "base_uri": "https://localhost:8080/"
        },
        "id": "MUviWQ6iGM5g",
        "outputId": "0d3d4fea-3dbe-4bc3-8046-708b99cb890d"
      },
      "execution_count": null,
      "outputs": [
        {
          "output_type": "stream",
          "name": "stdout",
          "text": [
            "Q05S 16:01 16:09 16:17 16:25 16:33 16:41 16:49 16:57\n"
          ]
        }
      ]
    },
    {
      "cell_type": "code",
      "source": [
        "! underground findstops parkside"
      ],
      "metadata": {
        "colab": {
          "base_uri": "https://localhost:8080/"
        },
        "id": "pkUOej3rG3L5",
        "outputId": "3e53c395-69c5-4d2b-9517-74498fc88a1f"
      },
      "execution_count": null,
      "outputs": [
        {
          "output_type": "stream",
          "name": "stdout",
          "text": [
            "ID: D27N    Direction: NORTH    Lat/Lon: 40.655292,-73.961495    Name: PARKSIDE AV\n",
            "ID: D27S    Direction: SOUTH    Lat/Lon: 40.655292,-73.961495    Name: PARKSIDE AV\n"
          ]
        }
      ]
    },
    {
      "cell_type": "code",
      "source": [
        "from google.transit import gtfs_realtime_pb2\n",
        "import requests\n",
        "import time # imports module for Epoch/GMT time conversion\n",
        "import os # imports package for dotenv\n",
        "from dotenv import load_dotenv, find_dotenv # imports module for dotenv\n",
        "load_dotenv(find_dotenv()) # loads .env from root directory\n",
        "\n",
        "# The root directory requires a .env file with API_KEY assigned/defined within\n",
        "# and dotenv installed from pypi. Get API key from http://datamine.mta.info/user\n",
        "api_key = os.environ['API_KEY']\n",
        "\n",
        "# Requests subway status data feed from City of New York MTA API\n",
        "feed = gtfs_realtime_pb2.FeedMessage()\n",
        "response = requests.get('http://datamine.mta.info/mta_esi.php?key={}&feed_id=21'.format(api_key))\n",
        "feed.ParseFromString(response.content)\n",
        "\n",
        "# The MTA data feed uses the General Transit Feed Specification (GTFS) which\n",
        "# is based upon Google's \"protocol buffer\" data format. While possible to\n",
        "# manipulate this data natively in python, it is far easier to use the\n",
        "# \"pip install --upgrade gtfs-realtime-bindings\" library which can be found on pypi\n",
        "from protobuf_to_dict import protobuf_to_dict\n",
        "subway_feed = protobuf_to_dict(feed) # subway_feed is a dictionary\n",
        "realtime_data = subway_feed['entity'] # train_data is a list\n",
        "\n",
        "# Because the data feed includes multiple arrival times for a given station\n",
        "# a global list needs to be created to collect the various times\n",
        "collected_times = []\n",
        "\n",
        "# This function takes a converted MTA data feed and a specific station ID and\n",
        "# loops through various nested dictionaries and lists to (1) filter out active\n",
        "# trains, (2) search for the given station ID, and (3) append the arrival time\n",
        "# of any instance of the station ID to the collected_times list\n",
        "def station_time_lookup(train_data, station):\n",
        "    for trains in train_data: # trains are dictionaries\n",
        "        if trains.get('trip_update', False) != False:\n",
        "            unique_train_schedule = trains['trip_update'] # train_schedule is a dictionary with trip and stop_time_update\n",
        "            unique_arrival_times = unique_train_schedule['stop_time_update'] # arrival_times is a list of arrivals\n",
        "            for scheduled_arrivals in unique_arrival_times: #arrivals are dictionaries with time data and stop_ids\n",
        "                if scheduled_arrivals.get('stop_id', False) == station:\n",
        "                    time_data = scheduled_arrivals['arrival']\n",
        "                    unique_time = time_data['time']\n",
        "                    if unique_time != None:\n",
        "                        collected_times.append(unique_time)"
      ],
      "metadata": {
        "colab": {
          "base_uri": "https://localhost:8080/",
          "height": 383
        },
        "id": "CPsHoyGzHkdj",
        "outputId": "e07a00f5-aad4-45a3-e39b-ef15d53c4690"
      },
      "execution_count": null,
      "outputs": [
        {
          "output_type": "error",
          "ename": "ModuleNotFoundError",
          "evalue": "ignored",
          "traceback": [
            "\u001b[0;31m---------------------------------------------------------------------------\u001b[0m",
            "\u001b[0;31mModuleNotFoundError\u001b[0m                       Traceback (most recent call last)",
            "\u001b[0;32m<ipython-input-23-cc7366015522>\u001b[0m in \u001b[0;36m<module>\u001b[0;34m()\u001b[0m\n\u001b[1;32m      3\u001b[0m \u001b[0;32mimport\u001b[0m \u001b[0mtime\u001b[0m \u001b[0;31m# imports module for Epoch/GMT time conversion\u001b[0m\u001b[0;34m\u001b[0m\u001b[0;34m\u001b[0m\u001b[0m\n\u001b[1;32m      4\u001b[0m \u001b[0;32mimport\u001b[0m \u001b[0mos\u001b[0m \u001b[0;31m# imports package for dotenv\u001b[0m\u001b[0;34m\u001b[0m\u001b[0;34m\u001b[0m\u001b[0m\n\u001b[0;32m----> 5\u001b[0;31m \u001b[0;32mfrom\u001b[0m \u001b[0mdotenv\u001b[0m \u001b[0;32mimport\u001b[0m \u001b[0mload_dotenv\u001b[0m\u001b[0;34m,\u001b[0m \u001b[0mfind_dotenv\u001b[0m \u001b[0;31m# imports module for dotenv\u001b[0m\u001b[0;34m\u001b[0m\u001b[0;34m\u001b[0m\u001b[0m\n\u001b[0m\u001b[1;32m      6\u001b[0m \u001b[0mload_dotenv\u001b[0m\u001b[0;34m(\u001b[0m\u001b[0mfind_dotenv\u001b[0m\u001b[0;34m(\u001b[0m\u001b[0;34m)\u001b[0m\u001b[0;34m)\u001b[0m \u001b[0;31m# loads .env from root directory\u001b[0m\u001b[0;34m\u001b[0m\u001b[0;34m\u001b[0m\u001b[0m\n\u001b[1;32m      7\u001b[0m \u001b[0;34m\u001b[0m\u001b[0m\n",
            "\u001b[0;31mModuleNotFoundError\u001b[0m: No module named 'dotenv'",
            "",
            "\u001b[0;31m---------------------------------------------------------------------------\u001b[0;32m\nNOTE: If your import is failing due to a missing package, you can\nmanually install dependencies using either !pip or !apt.\n\nTo view examples of installing some common dependencies, click the\n\"Open Examples\" button below.\n\u001b[0;31m---------------------------------------------------------------------------\u001b[0m\n"
          ],
          "errorDetails": {
            "actions": [
              {
                "action": "open_url",
                "actionText": "Open Examples",
                "url": "/notebooks/snippets/importing_libraries.ipynb"
              }
            ]
          }
        }
      ]
    }
  ]
}